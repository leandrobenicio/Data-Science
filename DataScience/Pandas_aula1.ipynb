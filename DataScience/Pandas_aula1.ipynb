{
 "metadata": {
  "language_info": {
   "codemirror_mode": {
    "name": "ipython",
    "version": 3
   },
   "file_extension": ".py",
   "mimetype": "text/x-python",
   "name": "python",
   "nbconvert_exporter": "python",
   "pygments_lexer": "ipython3",
   "version": "3.9.2-final"
  },
  "orig_nbformat": 2,
  "kernelspec": {
   "name": "python392jvsc74a57bd091f886c15fab9fa19ee20761bf8ceeafb842aef5b93027d2aa6dfaf1a843df4e",
   "display_name": "Python 3.9.2 64-bit ('gee': conda)"
  }
 },
 "nbformat": 4,
 "nbformat_minor": 2,
 "cells": [
  {
   "source": [
    "# Curso Python Pandas: Tratando e Analisando dados\n"
   ],
   "cell_type": "markdown",
   "metadata": {}
  },
  {
   "cell_type": "code",
   "execution_count": 1,
   "metadata": {},
   "outputs": [],
   "source": [
    "import pandas as pd"
   ]
  },
  {
   "cell_type": "code",
   "execution_count": 4,
   "metadata": {},
   "outputs": [],
   "source": [
    "base = pd.read_csv('./data/aluguel.csv', sep=';')"
   ]
  },
  {
   "cell_type": "code",
   "execution_count": 5,
   "metadata": {},
   "outputs": [
    {
     "output_type": "execute_result",
     "data": {
      "text/plain": [
       "                          Tipo                Bairro  Quartos  Vagas  Suites  \\\n",
       "0                    Quitinete            Copacabana        1      0       0   \n",
       "1                         Casa       Jardim Botânico        2      0       1   \n",
       "2      Conjunto Comercial/Sala       Barra da Tijuca        0      4       0   \n",
       "3                  Apartamento                Centro        1      0       0   \n",
       "4                  Apartamento          Higienópolis        1      0       0   \n",
       "...                        ...                   ...      ...    ...     ...   \n",
       "32955                Quitinete                Centro        0      0       0   \n",
       "32956              Apartamento           Jacarepaguá        3      1       2   \n",
       "32957              Apartamento  São Francisco Xavier        2      1       0   \n",
       "32958              Apartamento                Leblon        2      0       0   \n",
       "32959  Conjunto Comercial/Sala                Centro        0      0       0   \n",
       "\n",
       "       Area   Valor  Condominio    IPTU  \n",
       "0        40  1700.0       500.0    60.0  \n",
       "1       100  7000.0         NaN     NaN  \n",
       "2       150  5200.0      4020.0  1111.0  \n",
       "3        15   800.0       390.0    20.0  \n",
       "4        48   800.0       230.0     NaN  \n",
       "...     ...     ...         ...     ...  \n",
       "32955    27   800.0       350.0    25.0  \n",
       "32956    78  1800.0       800.0    40.0  \n",
       "32957    48  1400.0       509.0    37.0  \n",
       "32958    70  3000.0       760.0     NaN  \n",
       "32959   250  6500.0      4206.0  1109.0  \n",
       "\n",
       "[32960 rows x 9 columns]"
      ],
      "text/html": "<div>\n<style scoped>\n    .dataframe tbody tr th:only-of-type {\n        vertical-align: middle;\n    }\n\n    .dataframe tbody tr th {\n        vertical-align: top;\n    }\n\n    .dataframe thead th {\n        text-align: right;\n    }\n</style>\n<table border=\"1\" class=\"dataframe\">\n  <thead>\n    <tr style=\"text-align: right;\">\n      <th></th>\n      <th>Tipo</th>\n      <th>Bairro</th>\n      <th>Quartos</th>\n      <th>Vagas</th>\n      <th>Suites</th>\n      <th>Area</th>\n      <th>Valor</th>\n      <th>Condominio</th>\n      <th>IPTU</th>\n    </tr>\n  </thead>\n  <tbody>\n    <tr>\n      <th>0</th>\n      <td>Quitinete</td>\n      <td>Copacabana</td>\n      <td>1</td>\n      <td>0</td>\n      <td>0</td>\n      <td>40</td>\n      <td>1700.0</td>\n      <td>500.0</td>\n      <td>60.0</td>\n    </tr>\n    <tr>\n      <th>1</th>\n      <td>Casa</td>\n      <td>Jardim Botânico</td>\n      <td>2</td>\n      <td>0</td>\n      <td>1</td>\n      <td>100</td>\n      <td>7000.0</td>\n      <td>NaN</td>\n      <td>NaN</td>\n    </tr>\n    <tr>\n      <th>2</th>\n      <td>Conjunto Comercial/Sala</td>\n      <td>Barra da Tijuca</td>\n      <td>0</td>\n      <td>4</td>\n      <td>0</td>\n      <td>150</td>\n      <td>5200.0</td>\n      <td>4020.0</td>\n      <td>1111.0</td>\n    </tr>\n    <tr>\n      <th>3</th>\n      <td>Apartamento</td>\n      <td>Centro</td>\n      <td>1</td>\n      <td>0</td>\n      <td>0</td>\n      <td>15</td>\n      <td>800.0</td>\n      <td>390.0</td>\n      <td>20.0</td>\n    </tr>\n    <tr>\n      <th>4</th>\n      <td>Apartamento</td>\n      <td>Higienópolis</td>\n      <td>1</td>\n      <td>0</td>\n      <td>0</td>\n      <td>48</td>\n      <td>800.0</td>\n      <td>230.0</td>\n      <td>NaN</td>\n    </tr>\n    <tr>\n      <th>...</th>\n      <td>...</td>\n      <td>...</td>\n      <td>...</td>\n      <td>...</td>\n      <td>...</td>\n      <td>...</td>\n      <td>...</td>\n      <td>...</td>\n      <td>...</td>\n    </tr>\n    <tr>\n      <th>32955</th>\n      <td>Quitinete</td>\n      <td>Centro</td>\n      <td>0</td>\n      <td>0</td>\n      <td>0</td>\n      <td>27</td>\n      <td>800.0</td>\n      <td>350.0</td>\n      <td>25.0</td>\n    </tr>\n    <tr>\n      <th>32956</th>\n      <td>Apartamento</td>\n      <td>Jacarepaguá</td>\n      <td>3</td>\n      <td>1</td>\n      <td>2</td>\n      <td>78</td>\n      <td>1800.0</td>\n      <td>800.0</td>\n      <td>40.0</td>\n    </tr>\n    <tr>\n      <th>32957</th>\n      <td>Apartamento</td>\n      <td>São Francisco Xavier</td>\n      <td>2</td>\n      <td>1</td>\n      <td>0</td>\n      <td>48</td>\n      <td>1400.0</td>\n      <td>509.0</td>\n      <td>37.0</td>\n    </tr>\n    <tr>\n      <th>32958</th>\n      <td>Apartamento</td>\n      <td>Leblon</td>\n      <td>2</td>\n      <td>0</td>\n      <td>0</td>\n      <td>70</td>\n      <td>3000.0</td>\n      <td>760.0</td>\n      <td>NaN</td>\n    </tr>\n    <tr>\n      <th>32959</th>\n      <td>Conjunto Comercial/Sala</td>\n      <td>Centro</td>\n      <td>0</td>\n      <td>0</td>\n      <td>0</td>\n      <td>250</td>\n      <td>6500.0</td>\n      <td>4206.0</td>\n      <td>1109.0</td>\n    </tr>\n  </tbody>\n</table>\n<p>32960 rows × 9 columns</p>\n</div>"
     },
     "metadata": {},
     "execution_count": 5
    }
   ],
   "source": [
    "base"
   ]
  },
  {
   "cell_type": "code",
   "execution_count": 9,
   "metadata": {},
   "outputs": [
    {
     "output_type": "execute_result",
     "data": {
      "text/plain": [
       "pandas.core.frame.DataFrame"
      ]
     },
     "metadata": {},
     "execution_count": 9
    }
   ],
   "source": [
    "type(base)"
   ]
  },
  {
   "cell_type": "code",
   "execution_count": 7,
   "metadata": {},
   "outputs": [
    {
     "output_type": "stream",
     "name": "stdout",
     "text": [
      "<class 'pandas.core.frame.DataFrame'>\nRangeIndex: 32960 entries, 0 to 32959\nData columns (total 9 columns):\n #   Column      Non-Null Count  Dtype  \n---  ------      --------------  -----  \n 0   Tipo        32960 non-null  object \n 1   Bairro      32960 non-null  object \n 2   Quartos     32960 non-null  int64  \n 3   Vagas       32960 non-null  int64  \n 4   Suites      32960 non-null  int64  \n 5   Area        32960 non-null  int64  \n 6   Valor       32943 non-null  float64\n 7   Condominio  28867 non-null  float64\n 8   IPTU        22723 non-null  float64\ndtypes: float64(3), int64(4), object(2)\nmemory usage: 2.3+ MB\n"
     ]
    }
   ],
   "source": [
    "base.info()"
   ]
  },
  {
   "source": [
    "## Informações gerais sobre a Base de Dados\n"
   ],
   "cell_type": "markdown",
   "metadata": {}
  },
  {
   "cell_type": "code",
   "execution_count": 12,
   "metadata": {},
   "outputs": [
    {
     "output_type": "execute_result",
     "data": {
      "text/plain": [
       "Tipo           object\n",
       "Bairro         object\n",
       "Quartos         int64\n",
       "Vagas           int64\n",
       "Suites          int64\n",
       "Area            int64\n",
       "Valor         float64\n",
       "Condominio    float64\n",
       "IPTU          float64\n",
       "dtype: object"
      ]
     },
     "metadata": {},
     "execution_count": 12
    }
   ],
   "source": [
    "base.dtypes"
   ]
  },
  {
   "cell_type": "code",
   "execution_count": 16,
   "metadata": {},
   "outputs": [],
   "source": [
    "tipos_de_dados = pd.DataFrame(base.dtypes, columns = ['Tipos de Dados'])"
   ]
  },
  {
   "cell_type": "code",
   "execution_count": 18,
   "metadata": {},
   "outputs": [],
   "source": [
    "tipos_de_dados.columns.name = 'Variáveis'"
   ]
  },
  {
   "cell_type": "code",
   "execution_count": 19,
   "metadata": {},
   "outputs": [
    {
     "output_type": "execute_result",
     "data": {
      "text/plain": [
       "Variáveis  Tipos de Dados\n",
       "Tipo               object\n",
       "Bairro             object\n",
       "Quartos             int64\n",
       "Vagas               int64\n",
       "Suites              int64\n",
       "Area                int64\n",
       "Valor             float64\n",
       "Condominio        float64\n",
       "IPTU              float64"
      ],
      "text/html": "<div>\n<style scoped>\n    .dataframe tbody tr th:only-of-type {\n        vertical-align: middle;\n    }\n\n    .dataframe tbody tr th {\n        vertical-align: top;\n    }\n\n    .dataframe thead th {\n        text-align: right;\n    }\n</style>\n<table border=\"1\" class=\"dataframe\">\n  <thead>\n    <tr style=\"text-align: right;\">\n      <th>Variáveis</th>\n      <th>Tipos de Dados</th>\n    </tr>\n  </thead>\n  <tbody>\n    <tr>\n      <th>Tipo</th>\n      <td>object</td>\n    </tr>\n    <tr>\n      <th>Bairro</th>\n      <td>object</td>\n    </tr>\n    <tr>\n      <th>Quartos</th>\n      <td>int64</td>\n    </tr>\n    <tr>\n      <th>Vagas</th>\n      <td>int64</td>\n    </tr>\n    <tr>\n      <th>Suites</th>\n      <td>int64</td>\n    </tr>\n    <tr>\n      <th>Area</th>\n      <td>int64</td>\n    </tr>\n    <tr>\n      <th>Valor</th>\n      <td>float64</td>\n    </tr>\n    <tr>\n      <th>Condominio</th>\n      <td>float64</td>\n    </tr>\n    <tr>\n      <th>IPTU</th>\n      <td>float64</td>\n    </tr>\n  </tbody>\n</table>\n</div>"
     },
     "metadata": {},
     "execution_count": 19
    }
   ],
   "source": [
    "tipos_de_dados"
   ]
  },
  {
   "cell_type": "code",
   "execution_count": 22,
   "metadata": {},
   "outputs": [
    {
     "output_type": "execute_result",
     "data": {
      "text/plain": [
       "(32960, 9)"
      ]
     },
     "metadata": {},
     "execution_count": 22
    }
   ],
   "source": [
    "base.shape"
   ]
  },
  {
   "source": [
    "# Abrir e importar JSON"
   ],
   "cell_type": "markdown",
   "metadata": {}
  },
  {
   "cell_type": "code",
   "execution_count": 24,
   "metadata": {},
   "outputs": [
    {
     "output_type": "stream",
     "name": "stdout",
     "text": [
      "[{\"Tipo\":\"Quitinete\",\"Bairro\":\"Copacabana\",\"Quartos\":1,\"Vagas\":0,\"Suites\":0,\"Area\":40,\"Valor\":1700.0,\"Condominio\":500.0,\"IPTU\":60.0},\n{\"Tipo\":\"Casa\",\"Bairro\":\"Jardim Bot\\u00e2nico\",\"Quartos\":2,\"Vagas\":0,\"Suites\":1,\"Area\":100,\"Valor\":7000.0,\"Condominio\":null,\"IPTU\":null},\n{\"Tipo\":\"Conjunto Comercial\\/Sala\",\"Bairro\":\"Barra da Tijuca\",\"Quartos\":0,\"Vagas\":4,\"Suites\":0,\"Area\":150,\"Valor\":5200.0,\"Condominio\":4020.0,\"IPTU\":1111.0},\n{\"Tipo\":\"Apartamento\",\"Bairro\":\"Centro\",\"Quartos\":1,\"Vagas\":0,\"Suites\":0,\"Area\":15,\"Valor\":800.0,\"Condominio\":390.0,\"IPTU\":20.0},\n{\"Tipo\":\"Apartamento\",\"Bairro\":\"Higien\\u00f3polis\",\"Quartos\":1,\"Vagas\":0,\"Suites\":0,\"Area\":48,\"Valor\":800.0,\"Condominio\":230.0,\"IPTU\":null},\n{\"Tipo\":\"Apartamento\",\"Bairro\":\"Vista Alegre\",\"Quartos\":3,\"Vagas\":1,\"Suites\":0,\"Area\":70,\"Valor\":1200.0,\"Condominio\":null,\"IPTU\":null},\n{\"Tipo\":\"Apartamento\",\"Bairro\":\"Cachambi\",\"Quartos\":2,\"Vagas\":0,\"Suites\":0,\"Area\":50,\"Valor\":1300.0,\"Condominio\":301.0,\"IPTU\":17.0},\n{\"Tipo\":\"Casa de Condom\\u00ednio\",\"Bairro\":\"Barra da Tijuca\",\"Quartos\":5,\"Vagas\":4,\"Suites\":5,\"Area\":750,\"Valor\":22000.0,\"Condominio\":null,\"IPTU\":null},\n{\"Tipo\":\"Casa de Condom\\u00ednio\",\"Bairro\":\"Ramos\",\"Quartos\":2,\"Vagas\":2,\"Suites\":0,\"Area\":65,\"Valor\":1000.0,\"Condominio\":null,\"IPTU\":null},\n{\"Tipo\":\"Conjunto Comercial\\/Sala\",\"Bairro\":\"Centro\",\"Quartos\":0,\"Vagas\":3,\"Suites\":0,\"Area\":695,\"Valor\":35000.0,\"Condominio\":19193.0,\"IPTU\":3030.0}]\n"
     ]
    }
   ],
   "source": [
    "json = open('./data/aluguel.json')\n",
    "print(json.read())"
   ]
  },
  {
   "cell_type": "code",
   "execution_count": 26,
   "metadata": {},
   "outputs": [],
   "source": [
    "df_json = pd.read_json('./data/aluguel.json')"
   ]
  },
  {
   "cell_type": "code",
   "execution_count": 27,
   "metadata": {},
   "outputs": [
    {
     "output_type": "execute_result",
     "data": {
      "text/plain": [
       "                      Tipo           Bairro  Quartos  Vagas  Suites  Area  \\\n",
       "0                Quitinete       Copacabana        1      0       0    40   \n",
       "1                     Casa  Jardim Botânico        2      0       1   100   \n",
       "2  Conjunto Comercial/Sala  Barra da Tijuca        0      4       0   150   \n",
       "3              Apartamento           Centro        1      0       0    15   \n",
       "4              Apartamento     Higienópolis        1      0       0    48   \n",
       "5              Apartamento     Vista Alegre        3      1       0    70   \n",
       "6              Apartamento         Cachambi        2      0       0    50   \n",
       "7       Casa de Condomínio  Barra da Tijuca        5      4       5   750   \n",
       "8       Casa de Condomínio            Ramos        2      2       0    65   \n",
       "9  Conjunto Comercial/Sala           Centro        0      3       0   695   \n",
       "\n",
       "   Valor  Condominio    IPTU  \n",
       "0   1700       500.0    60.0  \n",
       "1   7000         NaN     NaN  \n",
       "2   5200      4020.0  1111.0  \n",
       "3    800       390.0    20.0  \n",
       "4    800       230.0     NaN  \n",
       "5   1200         NaN     NaN  \n",
       "6   1300       301.0    17.0  \n",
       "7  22000         NaN     NaN  \n",
       "8   1000         NaN     NaN  \n",
       "9  35000     19193.0  3030.0  "
      ],
      "text/html": "<div>\n<style scoped>\n    .dataframe tbody tr th:only-of-type {\n        vertical-align: middle;\n    }\n\n    .dataframe tbody tr th {\n        vertical-align: top;\n    }\n\n    .dataframe thead th {\n        text-align: right;\n    }\n</style>\n<table border=\"1\" class=\"dataframe\">\n  <thead>\n    <tr style=\"text-align: right;\">\n      <th></th>\n      <th>Tipo</th>\n      <th>Bairro</th>\n      <th>Quartos</th>\n      <th>Vagas</th>\n      <th>Suites</th>\n      <th>Area</th>\n      <th>Valor</th>\n      <th>Condominio</th>\n      <th>IPTU</th>\n    </tr>\n  </thead>\n  <tbody>\n    <tr>\n      <th>0</th>\n      <td>Quitinete</td>\n      <td>Copacabana</td>\n      <td>1</td>\n      <td>0</td>\n      <td>0</td>\n      <td>40</td>\n      <td>1700</td>\n      <td>500.0</td>\n      <td>60.0</td>\n    </tr>\n    <tr>\n      <th>1</th>\n      <td>Casa</td>\n      <td>Jardim Botânico</td>\n      <td>2</td>\n      <td>0</td>\n      <td>1</td>\n      <td>100</td>\n      <td>7000</td>\n      <td>NaN</td>\n      <td>NaN</td>\n    </tr>\n    <tr>\n      <th>2</th>\n      <td>Conjunto Comercial/Sala</td>\n      <td>Barra da Tijuca</td>\n      <td>0</td>\n      <td>4</td>\n      <td>0</td>\n      <td>150</td>\n      <td>5200</td>\n      <td>4020.0</td>\n      <td>1111.0</td>\n    </tr>\n    <tr>\n      <th>3</th>\n      <td>Apartamento</td>\n      <td>Centro</td>\n      <td>1</td>\n      <td>0</td>\n      <td>0</td>\n      <td>15</td>\n      <td>800</td>\n      <td>390.0</td>\n      <td>20.0</td>\n    </tr>\n    <tr>\n      <th>4</th>\n      <td>Apartamento</td>\n      <td>Higienópolis</td>\n      <td>1</td>\n      <td>0</td>\n      <td>0</td>\n      <td>48</td>\n      <td>800</td>\n      <td>230.0</td>\n      <td>NaN</td>\n    </tr>\n    <tr>\n      <th>5</th>\n      <td>Apartamento</td>\n      <td>Vista Alegre</td>\n      <td>3</td>\n      <td>1</td>\n      <td>0</td>\n      <td>70</td>\n      <td>1200</td>\n      <td>NaN</td>\n      <td>NaN</td>\n    </tr>\n    <tr>\n      <th>6</th>\n      <td>Apartamento</td>\n      <td>Cachambi</td>\n      <td>2</td>\n      <td>0</td>\n      <td>0</td>\n      <td>50</td>\n      <td>1300</td>\n      <td>301.0</td>\n      <td>17.0</td>\n    </tr>\n    <tr>\n      <th>7</th>\n      <td>Casa de Condomínio</td>\n      <td>Barra da Tijuca</td>\n      <td>5</td>\n      <td>4</td>\n      <td>5</td>\n      <td>750</td>\n      <td>22000</td>\n      <td>NaN</td>\n      <td>NaN</td>\n    </tr>\n    <tr>\n      <th>8</th>\n      <td>Casa de Condomínio</td>\n      <td>Ramos</td>\n      <td>2</td>\n      <td>2</td>\n      <td>0</td>\n      <td>65</td>\n      <td>1000</td>\n      <td>NaN</td>\n      <td>NaN</td>\n    </tr>\n    <tr>\n      <th>9</th>\n      <td>Conjunto Comercial/Sala</td>\n      <td>Centro</td>\n      <td>0</td>\n      <td>3</td>\n      <td>0</td>\n      <td>695</td>\n      <td>35000</td>\n      <td>19193.0</td>\n      <td>3030.0</td>\n    </tr>\n  </tbody>\n</table>\n</div>"
     },
     "metadata": {},
     "execution_count": 27
    }
   ],
   "source": [
    "df_json"
   ]
  },
  {
   "source": [
    "# Abrir e importar txt"
   ],
   "cell_type": "markdown",
   "metadata": {}
  },
  {
   "cell_type": "code",
   "execution_count": 28,
   "metadata": {},
   "outputs": [
    {
     "output_type": "stream",
     "name": "stdout",
     "text": [
      "Tipo\tBairro\tQuartos\tVagas\tSuites\tArea\tValor\tCondominio\tIPTU\nQuitinete\tCopacabana\t1\t0\t0\t40\t1700\t500\t60\nCasa\tJardim Botânico\t2\t0\t1\t100\t7000\t\t\nConjunto Comercial/Sala\tBarra da Tijuca\t0\t4\t0\t150\t5200\t4020\t1111\nApartamento\tCentro\t1\t0\t0\t15\t800\t390\t20\nApartamento\tHigienópolis\t1\t0\t0\t48\t800\t230\t\nApartamento\tVista Alegre\t3\t1\t0\t70\t1200\t\t\nApartamento\tCachambi\t2\t0\t0\t50\t1300\t301\t17\nCasa de Condomínio\tBarra da Tijuca\t5\t4\t5\t750\t22000\t\t\nCasa de Condomínio\tRamos\t2\t2\t0\t65\t1000\t\t\nConjunto Comercial/Sala\tCentro\t0\t3\t0\t695\t35000\t19193\t3030\n\n"
     ]
    }
   ],
   "source": [
    "txt = open('./data/aluguel.txt')\n",
    "print(txt.read())"
   ]
  },
  {
   "cell_type": "code",
   "execution_count": 29,
   "metadata": {},
   "outputs": [],
   "source": [
    "df_txt = pd.read_table('./data/aluguel.txt')"
   ]
  },
  {
   "cell_type": "code",
   "execution_count": 30,
   "metadata": {},
   "outputs": [
    {
     "output_type": "execute_result",
     "data": {
      "text/plain": [
       "                      Tipo           Bairro  Quartos  Vagas  Suites  Area  \\\n",
       "0                Quitinete       Copacabana        1      0       0    40   \n",
       "1                     Casa  Jardim Botânico        2      0       1   100   \n",
       "2  Conjunto Comercial/Sala  Barra da Tijuca        0      4       0   150   \n",
       "3              Apartamento           Centro        1      0       0    15   \n",
       "4              Apartamento     Higienópolis        1      0       0    48   \n",
       "5              Apartamento     Vista Alegre        3      1       0    70   \n",
       "6              Apartamento         Cachambi        2      0       0    50   \n",
       "7       Casa de Condomínio  Barra da Tijuca        5      4       5   750   \n",
       "8       Casa de Condomínio            Ramos        2      2       0    65   \n",
       "9  Conjunto Comercial/Sala           Centro        0      3       0   695   \n",
       "\n",
       "   Valor  Condominio    IPTU  \n",
       "0   1700       500.0    60.0  \n",
       "1   7000         NaN     NaN  \n",
       "2   5200      4020.0  1111.0  \n",
       "3    800       390.0    20.0  \n",
       "4    800       230.0     NaN  \n",
       "5   1200         NaN     NaN  \n",
       "6   1300       301.0    17.0  \n",
       "7  22000         NaN     NaN  \n",
       "8   1000         NaN     NaN  \n",
       "9  35000     19193.0  3030.0  "
      ],
      "text/html": "<div>\n<style scoped>\n    .dataframe tbody tr th:only-of-type {\n        vertical-align: middle;\n    }\n\n    .dataframe tbody tr th {\n        vertical-align: top;\n    }\n\n    .dataframe thead th {\n        text-align: right;\n    }\n</style>\n<table border=\"1\" class=\"dataframe\">\n  <thead>\n    <tr style=\"text-align: right;\">\n      <th></th>\n      <th>Tipo</th>\n      <th>Bairro</th>\n      <th>Quartos</th>\n      <th>Vagas</th>\n      <th>Suites</th>\n      <th>Area</th>\n      <th>Valor</th>\n      <th>Condominio</th>\n      <th>IPTU</th>\n    </tr>\n  </thead>\n  <tbody>\n    <tr>\n      <th>0</th>\n      <td>Quitinete</td>\n      <td>Copacabana</td>\n      <td>1</td>\n      <td>0</td>\n      <td>0</td>\n      <td>40</td>\n      <td>1700</td>\n      <td>500.0</td>\n      <td>60.0</td>\n    </tr>\n    <tr>\n      <th>1</th>\n      <td>Casa</td>\n      <td>Jardim Botânico</td>\n      <td>2</td>\n      <td>0</td>\n      <td>1</td>\n      <td>100</td>\n      <td>7000</td>\n      <td>NaN</td>\n      <td>NaN</td>\n    </tr>\n    <tr>\n      <th>2</th>\n      <td>Conjunto Comercial/Sala</td>\n      <td>Barra da Tijuca</td>\n      <td>0</td>\n      <td>4</td>\n      <td>0</td>\n      <td>150</td>\n      <td>5200</td>\n      <td>4020.0</td>\n      <td>1111.0</td>\n    </tr>\n    <tr>\n      <th>3</th>\n      <td>Apartamento</td>\n      <td>Centro</td>\n      <td>1</td>\n      <td>0</td>\n      <td>0</td>\n      <td>15</td>\n      <td>800</td>\n      <td>390.0</td>\n      <td>20.0</td>\n    </tr>\n    <tr>\n      <th>4</th>\n      <td>Apartamento</td>\n      <td>Higienópolis</td>\n      <td>1</td>\n      <td>0</td>\n      <td>0</td>\n      <td>48</td>\n      <td>800</td>\n      <td>230.0</td>\n      <td>NaN</td>\n    </tr>\n    <tr>\n      <th>5</th>\n      <td>Apartamento</td>\n      <td>Vista Alegre</td>\n      <td>3</td>\n      <td>1</td>\n      <td>0</td>\n      <td>70</td>\n      <td>1200</td>\n      <td>NaN</td>\n      <td>NaN</td>\n    </tr>\n    <tr>\n      <th>6</th>\n      <td>Apartamento</td>\n      <td>Cachambi</td>\n      <td>2</td>\n      <td>0</td>\n      <td>0</td>\n      <td>50</td>\n      <td>1300</td>\n      <td>301.0</td>\n      <td>17.0</td>\n    </tr>\n    <tr>\n      <th>7</th>\n      <td>Casa de Condomínio</td>\n      <td>Barra da Tijuca</td>\n      <td>5</td>\n      <td>4</td>\n      <td>5</td>\n      <td>750</td>\n      <td>22000</td>\n      <td>NaN</td>\n      <td>NaN</td>\n    </tr>\n    <tr>\n      <th>8</th>\n      <td>Casa de Condomínio</td>\n      <td>Ramos</td>\n      <td>2</td>\n      <td>2</td>\n      <td>0</td>\n      <td>65</td>\n      <td>1000</td>\n      <td>NaN</td>\n      <td>NaN</td>\n    </tr>\n    <tr>\n      <th>9</th>\n      <td>Conjunto Comercial/Sala</td>\n      <td>Centro</td>\n      <td>0</td>\n      <td>3</td>\n      <td>0</td>\n      <td>695</td>\n      <td>35000</td>\n      <td>19193.0</td>\n      <td>3030.0</td>\n    </tr>\n  </tbody>\n</table>\n</div>"
     },
     "metadata": {},
     "execution_count": 30
    }
   ],
   "source": [
    "df_txt"
   ]
  },
  {
   "source": [
    "# Abrir XLSX"
   ],
   "cell_type": "markdown",
   "metadata": {}
  },
  {
   "cell_type": "code",
   "execution_count": 33,
   "metadata": {},
   "outputs": [
    {
     "output_type": "execute_result",
     "data": {
      "text/plain": [
       "                      Tipo           Bairro  Quartos  Vagas  Suites  Area  \\\n",
       "0                Quitinete       Copacabana        1      0       0    40   \n",
       "1                     Casa  Jardim Botânico        2      0       1   100   \n",
       "2  Conjunto Comercial/Sala  Barra da Tijuca        0      4       0   150   \n",
       "3              Apartamento           Centro        1      0       0    15   \n",
       "4              Apartamento     Higienópolis        1      0       0    48   \n",
       "5              Apartamento     Vista Alegre        3      1       0    70   \n",
       "6              Apartamento         Cachambi        2      0       0    50   \n",
       "7       Casa de Condomínio  Barra da Tijuca        5      4       5   750   \n",
       "8       Casa de Condomínio            Ramos        2      2       0    65   \n",
       "9  Conjunto Comercial/Sala           Centro        0      3       0   695   \n",
       "\n",
       "   Valor  Condominio    IPTU  \n",
       "0   1700       500.0    60.0  \n",
       "1   7000         NaN     NaN  \n",
       "2   5200      4020.0  1111.0  \n",
       "3    800       390.0    20.0  \n",
       "4    800       230.0     NaN  \n",
       "5   1200         NaN     NaN  \n",
       "6   1300       301.0    17.0  \n",
       "7  22000         NaN     NaN  \n",
       "8   1000         NaN     NaN  \n",
       "9  35000     19193.0  3030.0  "
      ],
      "text/html": "<div>\n<style scoped>\n    .dataframe tbody tr th:only-of-type {\n        vertical-align: middle;\n    }\n\n    .dataframe tbody tr th {\n        vertical-align: top;\n    }\n\n    .dataframe thead th {\n        text-align: right;\n    }\n</style>\n<table border=\"1\" class=\"dataframe\">\n  <thead>\n    <tr style=\"text-align: right;\">\n      <th></th>\n      <th>Tipo</th>\n      <th>Bairro</th>\n      <th>Quartos</th>\n      <th>Vagas</th>\n      <th>Suites</th>\n      <th>Area</th>\n      <th>Valor</th>\n      <th>Condominio</th>\n      <th>IPTU</th>\n    </tr>\n  </thead>\n  <tbody>\n    <tr>\n      <th>0</th>\n      <td>Quitinete</td>\n      <td>Copacabana</td>\n      <td>1</td>\n      <td>0</td>\n      <td>0</td>\n      <td>40</td>\n      <td>1700</td>\n      <td>500.0</td>\n      <td>60.0</td>\n    </tr>\n    <tr>\n      <th>1</th>\n      <td>Casa</td>\n      <td>Jardim Botânico</td>\n      <td>2</td>\n      <td>0</td>\n      <td>1</td>\n      <td>100</td>\n      <td>7000</td>\n      <td>NaN</td>\n      <td>NaN</td>\n    </tr>\n    <tr>\n      <th>2</th>\n      <td>Conjunto Comercial/Sala</td>\n      <td>Barra da Tijuca</td>\n      <td>0</td>\n      <td>4</td>\n      <td>0</td>\n      <td>150</td>\n      <td>5200</td>\n      <td>4020.0</td>\n      <td>1111.0</td>\n    </tr>\n    <tr>\n      <th>3</th>\n      <td>Apartamento</td>\n      <td>Centro</td>\n      <td>1</td>\n      <td>0</td>\n      <td>0</td>\n      <td>15</td>\n      <td>800</td>\n      <td>390.0</td>\n      <td>20.0</td>\n    </tr>\n    <tr>\n      <th>4</th>\n      <td>Apartamento</td>\n      <td>Higienópolis</td>\n      <td>1</td>\n      <td>0</td>\n      <td>0</td>\n      <td>48</td>\n      <td>800</td>\n      <td>230.0</td>\n      <td>NaN</td>\n    </tr>\n    <tr>\n      <th>5</th>\n      <td>Apartamento</td>\n      <td>Vista Alegre</td>\n      <td>3</td>\n      <td>1</td>\n      <td>0</td>\n      <td>70</td>\n      <td>1200</td>\n      <td>NaN</td>\n      <td>NaN</td>\n    </tr>\n    <tr>\n      <th>6</th>\n      <td>Apartamento</td>\n      <td>Cachambi</td>\n      <td>2</td>\n      <td>0</td>\n      <td>0</td>\n      <td>50</td>\n      <td>1300</td>\n      <td>301.0</td>\n      <td>17.0</td>\n    </tr>\n    <tr>\n      <th>7</th>\n      <td>Casa de Condomínio</td>\n      <td>Barra da Tijuca</td>\n      <td>5</td>\n      <td>4</td>\n      <td>5</td>\n      <td>750</td>\n      <td>22000</td>\n      <td>NaN</td>\n      <td>NaN</td>\n    </tr>\n    <tr>\n      <th>8</th>\n      <td>Casa de Condomínio</td>\n      <td>Ramos</td>\n      <td>2</td>\n      <td>2</td>\n      <td>0</td>\n      <td>65</td>\n      <td>1000</td>\n      <td>NaN</td>\n      <td>NaN</td>\n    </tr>\n    <tr>\n      <th>9</th>\n      <td>Conjunto Comercial/Sala</td>\n      <td>Centro</td>\n      <td>0</td>\n      <td>3</td>\n      <td>0</td>\n      <td>695</td>\n      <td>35000</td>\n      <td>19193.0</td>\n      <td>3030.0</td>\n    </tr>\n  </tbody>\n</table>\n</div>"
     },
     "metadata": {},
     "execution_count": 33
    }
   ],
   "source": [
    "df_xlsx = pd.read_excel('./data/aluguel.xlsx')\n",
    "df_xlsx"
   ]
  },
  {
   "source": [
    "# Importar tabela de página web\n"
   ],
   "cell_type": "markdown",
   "metadata": {}
  },
  {
   "cell_type": "code",
   "execution_count": 39,
   "metadata": {},
   "outputs": [
    {
     "output_type": "execute_result",
     "data": {
      "text/plain": [
       "                  Date      Reserve balances required  \\\n",
       "                  Date Reserve balance requirements 1   \n",
       "0              Month 7                        Month 7   \n",
       "1            Aug. 2019                         134639   \n",
       "2           Sept. 2019                         134707   \n",
       "3            Oct. 2019                         134998   \n",
       "4            Nov. 2019                         140705   \n",
       "5            Dec. 2019                         138984   \n",
       "6            Jan. 2020                         144816   \n",
       "7            Feb. 2020                         138370   \n",
       "8            Mar. 2020                         113139   \n",
       "9            Apr. 2020                              0   \n",
       "10            May 2020                              0   \n",
       "11           June 2020                              0   \n",
       "12           July 2020                              0   \n",
       "13           Aug. 2020                              0   \n",
       "14                 NaN                            NaN   \n",
       "15  Two weeks ending 8             Two weeks ending 8   \n",
       "16       July 15, 2020                              0   \n",
       "17       July 29, 2020                              0   \n",
       "18       Aug. 12, 2020                              0   \n",
       "19       Aug. 26, 2020                              0   \n",
       "20       Sept. 9, 2020                              0   \n",
       "\n",
       "                                                               \\\n",
       "   Top of penalty- free band 2 Bottom of penalty- free band 3   \n",
       "0                      Month 7                        Month 7   \n",
       "1                       148114                         121167   \n",
       "2                       148188                         121227   \n",
       "3                       148509                         121489   \n",
       "4                       154787                         126625   \n",
       "5                       152893                         125076   \n",
       "6                       159309                         130326   \n",
       "7                       152218                         124524   \n",
       "8                       124461                         101817   \n",
       "9                            0                              0   \n",
       "10                           0                              0   \n",
       "11                           0                              0   \n",
       "12                           0                              0   \n",
       "13                           0                              0   \n",
       "14                         NaN                            NaN   \n",
       "15          Two weeks ending 8             Two weeks ending 8   \n",
       "16                           0                              0   \n",
       "17                           0                              0   \n",
       "18                           0                              0   \n",
       "19                           0                              0   \n",
       "20                           0                              0   \n",
       "\n",
       "   Reserve balances maintained 4  \\\n",
       "                           Total   \n",
       "0                        Month 7   \n",
       "1                        1520876   \n",
       "2                        1439771   \n",
       "3                        1481513   \n",
       "4                        1529341   \n",
       "5                        1630090   \n",
       "6                        1645384   \n",
       "7                        1656989   \n",
       "8                        2045148   \n",
       "9                        2953586   \n",
       "10                       3217635   \n",
       "11                       3043556   \n",
       "12                       2718529   \n",
       "13                       2799719   \n",
       "14                           NaN   \n",
       "15            Two weeks ending 8   \n",
       "16                       2795785   \n",
       "17                       2623526   \n",
       "18                       2751124   \n",
       "19                       2821740   \n",
       "20                       2854690   \n",
       "\n",
       "                                                                  \\\n",
       "   Balances maintained to satisfy reserve balance requirements 5   \n",
       "0                                             Month 7              \n",
       "1                                              147555              \n",
       "2                                              147498              \n",
       "3                                              148050              \n",
       "4                                              154256              \n",
       "5                                              152562              \n",
       "6                                              158765              \n",
       "7                                              151612              \n",
       "8                                              124147              \n",
       "9                                                   0              \n",
       "10                                                  0              \n",
       "11                                                  0              \n",
       "12                                                  0              \n",
       "13                                                  0              \n",
       "14                                                NaN              \n",
       "15                                 Two weeks ending 8              \n",
       "16                                                  0              \n",
       "17                                                  0              \n",
       "18                                                  0              \n",
       "19                                                  0              \n",
       "20                                                  0              \n",
       "\n",
       "                                                                        \n",
       "   Balances maintained that exceed the top of the penalty- free band 6  \n",
       "0                                             Month 7                   \n",
       "1                                             1373321                   \n",
       "2                                             1292273                   \n",
       "3                                             1333462                   \n",
       "4                                             1375085                   \n",
       "5                                             1477528                   \n",
       "6                                             1486619                   \n",
       "7                                             1505377                   \n",
       "8                                             1921000                   \n",
       "9                                             2953586                   \n",
       "10                                            3217635                   \n",
       "11                                            3043556                   \n",
       "12                                            2718529                   \n",
       "13                                            2799719                   \n",
       "14                                                NaN                   \n",
       "15                                 Two weeks ending 8                   \n",
       "16                                            2795785                   \n",
       "17                                            2623526                   \n",
       "18                                            2751124                   \n",
       "19                                            2821740                   \n",
       "20                                            2854690                   "
      ],
      "text/html": "<div>\n<style scoped>\n    .dataframe tbody tr th:only-of-type {\n        vertical-align: middle;\n    }\n\n    .dataframe tbody tr th {\n        vertical-align: top;\n    }\n\n    .dataframe thead tr th {\n        text-align: left;\n    }\n</style>\n<table border=\"1\" class=\"dataframe\">\n  <thead>\n    <tr>\n      <th></th>\n      <th>Date</th>\n      <th colspan=\"3\" halign=\"left\">Reserve balances required</th>\n      <th colspan=\"3\" halign=\"left\">Reserve balances maintained 4</th>\n    </tr>\n    <tr>\n      <th></th>\n      <th>Date</th>\n      <th>Reserve balance requirements 1</th>\n      <th>Top of penalty- free band 2</th>\n      <th>Bottom of penalty- free band 3</th>\n      <th>Total</th>\n      <th>Balances maintained to satisfy reserve balance requirements 5</th>\n      <th>Balances maintained that exceed the top of the penalty- free band 6</th>\n    </tr>\n  </thead>\n  <tbody>\n    <tr>\n      <th>0</th>\n      <td>Month 7</td>\n      <td>Month 7</td>\n      <td>Month 7</td>\n      <td>Month 7</td>\n      <td>Month 7</td>\n      <td>Month 7</td>\n      <td>Month 7</td>\n    </tr>\n    <tr>\n      <th>1</th>\n      <td>Aug. 2019</td>\n      <td>134639</td>\n      <td>148114</td>\n      <td>121167</td>\n      <td>1520876</td>\n      <td>147555</td>\n      <td>1373321</td>\n    </tr>\n    <tr>\n      <th>2</th>\n      <td>Sept. 2019</td>\n      <td>134707</td>\n      <td>148188</td>\n      <td>121227</td>\n      <td>1439771</td>\n      <td>147498</td>\n      <td>1292273</td>\n    </tr>\n    <tr>\n      <th>3</th>\n      <td>Oct. 2019</td>\n      <td>134998</td>\n      <td>148509</td>\n      <td>121489</td>\n      <td>1481513</td>\n      <td>148050</td>\n      <td>1333462</td>\n    </tr>\n    <tr>\n      <th>4</th>\n      <td>Nov. 2019</td>\n      <td>140705</td>\n      <td>154787</td>\n      <td>126625</td>\n      <td>1529341</td>\n      <td>154256</td>\n      <td>1375085</td>\n    </tr>\n    <tr>\n      <th>5</th>\n      <td>Dec. 2019</td>\n      <td>138984</td>\n      <td>152893</td>\n      <td>125076</td>\n      <td>1630090</td>\n      <td>152562</td>\n      <td>1477528</td>\n    </tr>\n    <tr>\n      <th>6</th>\n      <td>Jan. 2020</td>\n      <td>144816</td>\n      <td>159309</td>\n      <td>130326</td>\n      <td>1645384</td>\n      <td>158765</td>\n      <td>1486619</td>\n    </tr>\n    <tr>\n      <th>7</th>\n      <td>Feb. 2020</td>\n      <td>138370</td>\n      <td>152218</td>\n      <td>124524</td>\n      <td>1656989</td>\n      <td>151612</td>\n      <td>1505377</td>\n    </tr>\n    <tr>\n      <th>8</th>\n      <td>Mar. 2020</td>\n      <td>113139</td>\n      <td>124461</td>\n      <td>101817</td>\n      <td>2045148</td>\n      <td>124147</td>\n      <td>1921000</td>\n    </tr>\n    <tr>\n      <th>9</th>\n      <td>Apr. 2020</td>\n      <td>0</td>\n      <td>0</td>\n      <td>0</td>\n      <td>2953586</td>\n      <td>0</td>\n      <td>2953586</td>\n    </tr>\n    <tr>\n      <th>10</th>\n      <td>May 2020</td>\n      <td>0</td>\n      <td>0</td>\n      <td>0</td>\n      <td>3217635</td>\n      <td>0</td>\n      <td>3217635</td>\n    </tr>\n    <tr>\n      <th>11</th>\n      <td>June 2020</td>\n      <td>0</td>\n      <td>0</td>\n      <td>0</td>\n      <td>3043556</td>\n      <td>0</td>\n      <td>3043556</td>\n    </tr>\n    <tr>\n      <th>12</th>\n      <td>July 2020</td>\n      <td>0</td>\n      <td>0</td>\n      <td>0</td>\n      <td>2718529</td>\n      <td>0</td>\n      <td>2718529</td>\n    </tr>\n    <tr>\n      <th>13</th>\n      <td>Aug. 2020</td>\n      <td>0</td>\n      <td>0</td>\n      <td>0</td>\n      <td>2799719</td>\n      <td>0</td>\n      <td>2799719</td>\n    </tr>\n    <tr>\n      <th>14</th>\n      <td>NaN</td>\n      <td>NaN</td>\n      <td>NaN</td>\n      <td>NaN</td>\n      <td>NaN</td>\n      <td>NaN</td>\n      <td>NaN</td>\n    </tr>\n    <tr>\n      <th>15</th>\n      <td>Two weeks ending 8</td>\n      <td>Two weeks ending 8</td>\n      <td>Two weeks ending 8</td>\n      <td>Two weeks ending 8</td>\n      <td>Two weeks ending 8</td>\n      <td>Two weeks ending 8</td>\n      <td>Two weeks ending 8</td>\n    </tr>\n    <tr>\n      <th>16</th>\n      <td>July 15, 2020</td>\n      <td>0</td>\n      <td>0</td>\n      <td>0</td>\n      <td>2795785</td>\n      <td>0</td>\n      <td>2795785</td>\n    </tr>\n    <tr>\n      <th>17</th>\n      <td>July 29, 2020</td>\n      <td>0</td>\n      <td>0</td>\n      <td>0</td>\n      <td>2623526</td>\n      <td>0</td>\n      <td>2623526</td>\n    </tr>\n    <tr>\n      <th>18</th>\n      <td>Aug. 12, 2020</td>\n      <td>0</td>\n      <td>0</td>\n      <td>0</td>\n      <td>2751124</td>\n      <td>0</td>\n      <td>2751124</td>\n    </tr>\n    <tr>\n      <th>19</th>\n      <td>Aug. 26, 2020</td>\n      <td>0</td>\n      <td>0</td>\n      <td>0</td>\n      <td>2821740</td>\n      <td>0</td>\n      <td>2821740</td>\n    </tr>\n    <tr>\n      <th>20</th>\n      <td>Sept. 9, 2020</td>\n      <td>0</td>\n      <td>0</td>\n      <td>0</td>\n      <td>2854690</td>\n      <td>0</td>\n      <td>2854690</td>\n    </tr>\n  </tbody>\n</table>\n</div>"
     },
     "metadata": {},
     "execution_count": 39
    }
   ],
   "source": [
    "df_html = pd.read_html('https://www.federalreserve.gov/releases/h3/current/default.htm')\n",
    "df_html[0]"
   ]
  },
  {
   "cell_type": "code",
   "execution_count": 49,
   "metadata": {},
   "outputs": [],
   "source": [
    "dtHtml = pd.DataFrame(df_html[0])"
   ]
  },
  {
   "cell_type": "code",
   "execution_count": 51,
   "metadata": {},
   "outputs": [
    {
     "output_type": "stream",
     "name": "stdout",
     "text": [
      "<class 'pandas.core.frame.DataFrame'>\nRangeIndex: 21 entries, 0 to 20\nData columns (total 7 columns):\n #   Column                                                                                                Non-Null Count  Dtype \n---  ------                                                                                                --------------  ----- \n 0   (Date, Date)                                                                                          20 non-null     object\n 1   (Reserve balances required, Reserve balance requirements 1)                                           20 non-null     object\n 2   (Reserve balances required, Top of penalty- free band 2)                                              20 non-null     object\n 3   (Reserve balances required, Bottom of penalty- free band 3)                                           20 non-null     object\n 4   (Reserve balances maintained 4, Total)                                                                20 non-null     object\n 5   (Reserve balances maintained 4, Balances maintained to satisfy reserve balance requirements 5)        20 non-null     object\n 6   (Reserve balances maintained 4, Balances maintained that exceed the top of the penalty- free band 6)  20 non-null     object\ndtypes: object(7)\nmemory usage: 1.3+ KB\n"
     ]
    }
   ],
   "source": [
    "dtHtml.info()"
   ]
  },
  {
   "cell_type": "code",
   "execution_count": 58,
   "metadata": {},
   "outputs": [],
   "source": [
    "telemetria = pd.read_html('./data/Hidro-Telemetria _ Últimos Dados.html')"
   ]
  },
  {
   "cell_type": "code",
   "execution_count": 60,
   "metadata": {},
   "outputs": [
    {
     "output_type": "execute_result",
     "data": {
      "text/plain": [
       "21"
      ]
     },
     "metadata": {},
     "execution_count": 60
    }
   ],
   "source": [
    "len(telemetria)"
   ]
  },
  {
   "cell_type": "code",
   "execution_count": 67,
   "metadata": {},
   "outputs": [
    {
     "output_type": "execute_result",
     "data": {
      "text/plain": [
       "                                            0   \\\n",
       "0    Relatório dos Últimos Dados de Nível (cm)   \n",
       "1                                         Ref.   \n",
       "2                                          NaN   \n",
       "3                                          NaN   \n",
       "4                                          NaN   \n",
       "..                                         ...   \n",
       "223                                        NaN   \n",
       "224                                        NaN   \n",
       "225                                        NaN   \n",
       "226                                        NaN   \n",
       "227                                        NaN   \n",
       "\n",
       "                                            1   \\\n",
       "0    Relatório dos Últimos Dados de Nível (cm)   \n",
       "1                                          Or.   \n",
       "2                                            3   \n",
       "3                                            3   \n",
       "4                                            3   \n",
       "..                                         ...   \n",
       "223                                          3   \n",
       "224                                          3   \n",
       "225                                          3   \n",
       "226                                          3   \n",
       "227                                          3   \n",
       "\n",
       "                                            2   \\\n",
       "0    Relatório dos Últimos Dados de Nível (cm)   \n",
       "1                                       Código   \n",
       "2                                     02251081   \n",
       "3                                     02351080   \n",
       "4                                     02449067   \n",
       "..                                         ...   \n",
       "223                                   82188000   \n",
       "224                                   82230001   \n",
       "225                                   82230015   \n",
       "226                                   82230815   \n",
       "227                                   82234000   \n",
       "\n",
       "                                            3   \\\n",
       "0    Relatório dos Últimos Dados de Nível (cm)   \n",
       "1                                         Nome   \n",
       "2              UHE TAQUARUÇU CENTENÁRIO DO SUL   \n",
       "3                  PCH APUCARANINHA MONTANTE 2   \n",
       "4                     UHE CHAVANTES BERTANHOLI   \n",
       "..                                         ...   \n",
       "223                     CGH MARUMBI BARRAMENTO   \n",
       "224      UHE CHAMINÉ BARRAMENTO RES. VOSSOROCA   \n",
       "225  UHE CHAMINÉ BARRAMENTO RES. SALTO DO MEIO   \n",
       "226                   UHE GUARICANA BARRAMENTO   \n",
       "227                  UHE GUARICANA RIO CUBATÃO   \n",
       "\n",
       "                                            4   \\\n",
       "0    Relatório dos Últimos Dados de Nível (cm)   \n",
       "1                                    Data/Hora   \n",
       "2                          09/04/2021 08:00:00   \n",
       "3                          09/04/2021 10:00:00   \n",
       "4                          09/04/2021 08:00:00   \n",
       "..                                         ...   \n",
       "223                        09/04/2021 09:00:00   \n",
       "224                        09/04/2021 10:00:00   \n",
       "225                        09/04/2021 10:00:00   \n",
       "226                        09/04/2021 10:00:00   \n",
       "227                        09/04/2021 10:00:00   \n",
       "\n",
       "                                            5   \\\n",
       "0    Relatório dos Últimos Dados de Nível (cm)   \n",
       "1                                       Último   \n",
       "2                                            -   \n",
       "3                                            -   \n",
       "4                                            -   \n",
       "..                                         ...   \n",
       "223                                    69009.7   \n",
       "224                                    81412.2   \n",
       "225                                    71925.3   \n",
       "226                                    70180.6   \n",
       "227                                      200.6   \n",
       "\n",
       "                                            6   \\\n",
       "0    Relatório dos Últimos Dados de Nível (cm)   \n",
       "1                                           4h   \n",
       "2                                            -   \n",
       "3                                            -   \n",
       "4                                            -   \n",
       "..                                         ...   \n",
       "223                                    69014.4   \n",
       "224                                    81412.3   \n",
       "225                                    71925.3   \n",
       "226                                    70190.5   \n",
       "227                                      199.2   \n",
       "\n",
       "                                            7   \\\n",
       "0    Relatório dos Últimos Dados de Nível (cm)   \n",
       "1                                           8h   \n",
       "2                                            -   \n",
       "3                                            -   \n",
       "4                                            -   \n",
       "..                                         ...   \n",
       "223                                    69018.0   \n",
       "224                                    81412.4   \n",
       "225                                    71911.2   \n",
       "226                                    70200.4   \n",
       "227                                      206.6   \n",
       "\n",
       "                                            8   \\\n",
       "0    Relatório dos Últimos Dados de Nível (cm)   \n",
       "1                                          12h   \n",
       "2                                            -   \n",
       "3                                            -   \n",
       "4                                            -   \n",
       "..                                         ...   \n",
       "223                                    69010.2   \n",
       "224                                    81412.2   \n",
       "225                                    71923.0   \n",
       "226                                    70208.9   \n",
       "227                                      208.1   \n",
       "\n",
       "                                            9   \\\n",
       "0    Relatório dos Últimos Dados de Nível (cm)   \n",
       "1                                          24h   \n",
       "2                                            -   \n",
       "3                                            -   \n",
       "4                                            -   \n",
       "..                                         ...   \n",
       "223                                    69014.4   \n",
       "224                                    81409.2   \n",
       "225                                    72012.8   \n",
       "226                                    70212.7   \n",
       "227                                      217.6   \n",
       "\n",
       "                                            10  \\\n",
       "0    Relatório dos Últimos Dados de Nível (cm)   \n",
       "1                                          96h   \n",
       "2                                            -   \n",
       "3                                            -   \n",
       "4                                            -   \n",
       "..                                         ...   \n",
       "223                                    69011.8   \n",
       "224                                    81401.7   \n",
       "225                                    71949.8   \n",
       "226                                    70188.1   \n",
       "227                                      194.4   \n",
       "\n",
       "                                            11  \\\n",
       "0    Relatório dos Últimos Dados de Nível (cm)   \n",
       "1                                          NaN   \n",
       "2                                          NaN   \n",
       "3                                          NaN   \n",
       "4                                          NaN   \n",
       "..                                         ...   \n",
       "223                                        NaN   \n",
       "224                                        NaN   \n",
       "225                                        NaN   \n",
       "226                                        NaN   \n",
       "227                                        NaN   \n",
       "\n",
       "                                            12  \n",
       "0    Relatório dos Últimos Dados de Nível (cm)  \n",
       "1                                          NaN  \n",
       "2                                          NaN  \n",
       "3                                          NaN  \n",
       "4                                          NaN  \n",
       "..                                         ...  \n",
       "223                                        NaN  \n",
       "224                                        NaN  \n",
       "225                                        NaN  \n",
       "226                                        NaN  \n",
       "227                                        NaN  \n",
       "\n",
       "[228 rows x 13 columns]"
      ],
      "text/html": "<div>\n<style scoped>\n    .dataframe tbody tr th:only-of-type {\n        vertical-align: middle;\n    }\n\n    .dataframe tbody tr th {\n        vertical-align: top;\n    }\n\n    .dataframe thead th {\n        text-align: right;\n    }\n</style>\n<table border=\"1\" class=\"dataframe\">\n  <thead>\n    <tr style=\"text-align: right;\">\n      <th></th>\n      <th>0</th>\n      <th>1</th>\n      <th>2</th>\n      <th>3</th>\n      <th>4</th>\n      <th>5</th>\n      <th>6</th>\n      <th>7</th>\n      <th>8</th>\n      <th>9</th>\n      <th>10</th>\n      <th>11</th>\n      <th>12</th>\n    </tr>\n  </thead>\n  <tbody>\n    <tr>\n      <th>0</th>\n      <td>Relatório dos Últimos Dados de Nível (cm)</td>\n      <td>Relatório dos Últimos Dados de Nível (cm)</td>\n      <td>Relatório dos Últimos Dados de Nível (cm)</td>\n      <td>Relatório dos Últimos Dados de Nível (cm)</td>\n      <td>Relatório dos Últimos Dados de Nível (cm)</td>\n      <td>Relatório dos Últimos Dados de Nível (cm)</td>\n      <td>Relatório dos Últimos Dados de Nível (cm)</td>\n      <td>Relatório dos Últimos Dados de Nível (cm)</td>\n      <td>Relatório dos Últimos Dados de Nível (cm)</td>\n      <td>Relatório dos Últimos Dados de Nível (cm)</td>\n      <td>Relatório dos Últimos Dados de Nível (cm)</td>\n      <td>Relatório dos Últimos Dados de Nível (cm)</td>\n      <td>Relatório dos Últimos Dados de Nível (cm)</td>\n    </tr>\n    <tr>\n      <th>1</th>\n      <td>Ref.</td>\n      <td>Or.</td>\n      <td>Código</td>\n      <td>Nome</td>\n      <td>Data/Hora</td>\n      <td>Último</td>\n      <td>4h</td>\n      <td>8h</td>\n      <td>12h</td>\n      <td>24h</td>\n      <td>96h</td>\n      <td>NaN</td>\n      <td>NaN</td>\n    </tr>\n    <tr>\n      <th>2</th>\n      <td>NaN</td>\n      <td>3</td>\n      <td>02251081</td>\n      <td>UHE TAQUARUÇU CENTENÁRIO DO SUL</td>\n      <td>09/04/2021 08:00:00</td>\n      <td>-</td>\n      <td>-</td>\n      <td>-</td>\n      <td>-</td>\n      <td>-</td>\n      <td>-</td>\n      <td>NaN</td>\n      <td>NaN</td>\n    </tr>\n    <tr>\n      <th>3</th>\n      <td>NaN</td>\n      <td>3</td>\n      <td>02351080</td>\n      <td>PCH APUCARANINHA MONTANTE 2</td>\n      <td>09/04/2021 10:00:00</td>\n      <td>-</td>\n      <td>-</td>\n      <td>-</td>\n      <td>-</td>\n      <td>-</td>\n      <td>-</td>\n      <td>NaN</td>\n      <td>NaN</td>\n    </tr>\n    <tr>\n      <th>4</th>\n      <td>NaN</td>\n      <td>3</td>\n      <td>02449067</td>\n      <td>UHE CHAVANTES BERTANHOLI</td>\n      <td>09/04/2021 08:00:00</td>\n      <td>-</td>\n      <td>-</td>\n      <td>-</td>\n      <td>-</td>\n      <td>-</td>\n      <td>-</td>\n      <td>NaN</td>\n      <td>NaN</td>\n    </tr>\n    <tr>\n      <th>...</th>\n      <td>...</td>\n      <td>...</td>\n      <td>...</td>\n      <td>...</td>\n      <td>...</td>\n      <td>...</td>\n      <td>...</td>\n      <td>...</td>\n      <td>...</td>\n      <td>...</td>\n      <td>...</td>\n      <td>...</td>\n      <td>...</td>\n    </tr>\n    <tr>\n      <th>223</th>\n      <td>NaN</td>\n      <td>3</td>\n      <td>82188000</td>\n      <td>CGH MARUMBI BARRAMENTO</td>\n      <td>09/04/2021 09:00:00</td>\n      <td>69009.7</td>\n      <td>69014.4</td>\n      <td>69018.0</td>\n      <td>69010.2</td>\n      <td>69014.4</td>\n      <td>69011.8</td>\n      <td>NaN</td>\n      <td>NaN</td>\n    </tr>\n    <tr>\n      <th>224</th>\n      <td>NaN</td>\n      <td>3</td>\n      <td>82230001</td>\n      <td>UHE CHAMINÉ BARRAMENTO RES. VOSSOROCA</td>\n      <td>09/04/2021 10:00:00</td>\n      <td>81412.2</td>\n      <td>81412.3</td>\n      <td>81412.4</td>\n      <td>81412.2</td>\n      <td>81409.2</td>\n      <td>81401.7</td>\n      <td>NaN</td>\n      <td>NaN</td>\n    </tr>\n    <tr>\n      <th>225</th>\n      <td>NaN</td>\n      <td>3</td>\n      <td>82230015</td>\n      <td>UHE CHAMINÉ BARRAMENTO RES. SALTO DO MEIO</td>\n      <td>09/04/2021 10:00:00</td>\n      <td>71925.3</td>\n      <td>71925.3</td>\n      <td>71911.2</td>\n      <td>71923.0</td>\n      <td>72012.8</td>\n      <td>71949.8</td>\n      <td>NaN</td>\n      <td>NaN</td>\n    </tr>\n    <tr>\n      <th>226</th>\n      <td>NaN</td>\n      <td>3</td>\n      <td>82230815</td>\n      <td>UHE GUARICANA BARRAMENTO</td>\n      <td>09/04/2021 10:00:00</td>\n      <td>70180.6</td>\n      <td>70190.5</td>\n      <td>70200.4</td>\n      <td>70208.9</td>\n      <td>70212.7</td>\n      <td>70188.1</td>\n      <td>NaN</td>\n      <td>NaN</td>\n    </tr>\n    <tr>\n      <th>227</th>\n      <td>NaN</td>\n      <td>3</td>\n      <td>82234000</td>\n      <td>UHE GUARICANA RIO CUBATÃO</td>\n      <td>09/04/2021 10:00:00</td>\n      <td>200.6</td>\n      <td>199.2</td>\n      <td>206.6</td>\n      <td>208.1</td>\n      <td>217.6</td>\n      <td>194.4</td>\n      <td>NaN</td>\n      <td>NaN</td>\n    </tr>\n  </tbody>\n</table>\n<p>228 rows × 13 columns</p>\n</div>"
     },
     "metadata": {},
     "execution_count": 67
    }
   ],
   "source": [
    "telemetria[20]"
   ]
  },
  {
   "cell_type": "code",
   "execution_count": null,
   "metadata": {},
   "outputs": [],
   "source": []
  }
 ]
}