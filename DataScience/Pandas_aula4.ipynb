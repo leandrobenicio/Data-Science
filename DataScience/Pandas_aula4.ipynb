{
 "metadata": {
  "language_info": {
   "codemirror_mode": {
    "name": "ipython",
    "version": 3
   },
   "file_extension": ".py",
   "mimetype": "text/x-python",
   "name": "python",
   "nbconvert_exporter": "python",
   "pygments_lexer": "ipython3",
   "version": "3.9.2"
  },
  "orig_nbformat": 2,
  "kernelspec": {
   "name": "python392jvsc74a57bd0397704579725e15f5c7cb49fe5f0341eb7531c82d19f2c29d197e8b64ab5776b",
   "display_name": "Python 3.9.2 64-bit"
  },
  "metadata": {
   "interpreter": {
    "hash": "397704579725e15f5c7cb49fe5f0341eb7531c82d19f2c29d197e8b64ab5776b"
   }
  }
 },
 "nbformat": 4,
 "nbformat_minor": 2,
 "cells": [
  {
   "source": [
    "# Tratamento de Dados Faltantes\n"
   ],
   "cell_type": "markdown",
   "metadata": {}
  },
  {
   "cell_type": "code",
   "execution_count": 2,
   "metadata": {},
   "outputs": [],
   "source": [
    "import pandas as pd"
   ]
  },
  {
   "cell_type": "code",
   "execution_count": 23,
   "metadata": {},
   "outputs": [],
   "source": [
    "dados = pd.read_csv('./data/aluguel_residencial.csv', sep=';')"
   ]
  },
  {
   "cell_type": "code",
   "execution_count": 24,
   "metadata": {},
   "outputs": [
    {
     "output_type": "execute_result",
     "data": {
      "text/plain": [
       "          Tipo           Bairro  Quartos  Vagas  Suites  Area   Valor  \\\n",
       "0    Quitinete       Copacabana        1      0       0    40  1700.0   \n",
       "1         Casa  Jardim Botânico        2      0       1   100  7000.0   \n",
       "2  Apartamento           Centro        1      0       0    15   800.0   \n",
       "3  Apartamento     Higienópolis        1      0       0    48   800.0   \n",
       "4  Apartamento     Vista Alegre        3      1       0    70  1200.0   \n",
       "\n",
       "   Condominio  IPTU  \n",
       "0       500.0  60.0  \n",
       "1         NaN   NaN  \n",
       "2       390.0  20.0  \n",
       "3       230.0   NaN  \n",
       "4         NaN   NaN  "
      ],
      "text/html": "<div>\n<style scoped>\n    .dataframe tbody tr th:only-of-type {\n        vertical-align: middle;\n    }\n\n    .dataframe tbody tr th {\n        vertical-align: top;\n    }\n\n    .dataframe thead th {\n        text-align: right;\n    }\n</style>\n<table border=\"1\" class=\"dataframe\">\n  <thead>\n    <tr style=\"text-align: right;\">\n      <th></th>\n      <th>Tipo</th>\n      <th>Bairro</th>\n      <th>Quartos</th>\n      <th>Vagas</th>\n      <th>Suites</th>\n      <th>Area</th>\n      <th>Valor</th>\n      <th>Condominio</th>\n      <th>IPTU</th>\n    </tr>\n  </thead>\n  <tbody>\n    <tr>\n      <th>0</th>\n      <td>Quitinete</td>\n      <td>Copacabana</td>\n      <td>1</td>\n      <td>0</td>\n      <td>0</td>\n      <td>40</td>\n      <td>1700.0</td>\n      <td>500.0</td>\n      <td>60.0</td>\n    </tr>\n    <tr>\n      <th>1</th>\n      <td>Casa</td>\n      <td>Jardim Botânico</td>\n      <td>2</td>\n      <td>0</td>\n      <td>1</td>\n      <td>100</td>\n      <td>7000.0</td>\n      <td>NaN</td>\n      <td>NaN</td>\n    </tr>\n    <tr>\n      <th>2</th>\n      <td>Apartamento</td>\n      <td>Centro</td>\n      <td>1</td>\n      <td>0</td>\n      <td>0</td>\n      <td>15</td>\n      <td>800.0</td>\n      <td>390.0</td>\n      <td>20.0</td>\n    </tr>\n    <tr>\n      <th>3</th>\n      <td>Apartamento</td>\n      <td>Higienópolis</td>\n      <td>1</td>\n      <td>0</td>\n      <td>0</td>\n      <td>48</td>\n      <td>800.0</td>\n      <td>230.0</td>\n      <td>NaN</td>\n    </tr>\n    <tr>\n      <th>4</th>\n      <td>Apartamento</td>\n      <td>Vista Alegre</td>\n      <td>3</td>\n      <td>1</td>\n      <td>0</td>\n      <td>70</td>\n      <td>1200.0</td>\n      <td>NaN</td>\n      <td>NaN</td>\n    </tr>\n  </tbody>\n</table>\n</div>"
     },
     "metadata": {},
     "execution_count": 24
    }
   ],
   "source": [
    "dados.head()"
   ]
  },
  {
   "cell_type": "code",
   "execution_count": 9,
   "metadata": {},
   "outputs": [
    {
     "output_type": "execute_result",
     "data": {
      "text/plain": [
       "        Tipo  Bairro  Quartos  Vagas  Suites   Area  Valor  Condominio   IPTU\n",
       "0      False   False    False  False   False  False  False       False  False\n",
       "1      False   False    False  False   False  False  False        True   True\n",
       "2      False   False    False  False   False  False  False       False  False\n",
       "3      False   False    False  False   False  False  False       False   True\n",
       "4      False   False    False  False   False  False  False        True   True\n",
       "...      ...     ...      ...    ...     ...    ...    ...         ...    ...\n",
       "22575  False   False    False  False   False  False  False       False  False\n",
       "22576  False   False    False  False   False  False  False       False  False\n",
       "22577  False   False    False  False   False  False  False       False  False\n",
       "22578  False   False    False  False   False  False  False       False  False\n",
       "22579  False   False    False  False   False  False  False       False   True\n",
       "\n",
       "[22580 rows x 9 columns]"
      ],
      "text/html": "<div>\n<style scoped>\n    .dataframe tbody tr th:only-of-type {\n        vertical-align: middle;\n    }\n\n    .dataframe tbody tr th {\n        vertical-align: top;\n    }\n\n    .dataframe thead th {\n        text-align: right;\n    }\n</style>\n<table border=\"1\" class=\"dataframe\">\n  <thead>\n    <tr style=\"text-align: right;\">\n      <th></th>\n      <th>Tipo</th>\n      <th>Bairro</th>\n      <th>Quartos</th>\n      <th>Vagas</th>\n      <th>Suites</th>\n      <th>Area</th>\n      <th>Valor</th>\n      <th>Condominio</th>\n      <th>IPTU</th>\n    </tr>\n  </thead>\n  <tbody>\n    <tr>\n      <th>0</th>\n      <td>False</td>\n      <td>False</td>\n      <td>False</td>\n      <td>False</td>\n      <td>False</td>\n      <td>False</td>\n      <td>False</td>\n      <td>False</td>\n      <td>False</td>\n    </tr>\n    <tr>\n      <th>1</th>\n      <td>False</td>\n      <td>False</td>\n      <td>False</td>\n      <td>False</td>\n      <td>False</td>\n      <td>False</td>\n      <td>False</td>\n      <td>True</td>\n      <td>True</td>\n    </tr>\n    <tr>\n      <th>2</th>\n      <td>False</td>\n      <td>False</td>\n      <td>False</td>\n      <td>False</td>\n      <td>False</td>\n      <td>False</td>\n      <td>False</td>\n      <td>False</td>\n      <td>False</td>\n    </tr>\n    <tr>\n      <th>3</th>\n      <td>False</td>\n      <td>False</td>\n      <td>False</td>\n      <td>False</td>\n      <td>False</td>\n      <td>False</td>\n      <td>False</td>\n      <td>False</td>\n      <td>True</td>\n    </tr>\n    <tr>\n      <th>4</th>\n      <td>False</td>\n      <td>False</td>\n      <td>False</td>\n      <td>False</td>\n      <td>False</td>\n      <td>False</td>\n      <td>False</td>\n      <td>True</td>\n      <td>True</td>\n    </tr>\n    <tr>\n      <th>...</th>\n      <td>...</td>\n      <td>...</td>\n      <td>...</td>\n      <td>...</td>\n      <td>...</td>\n      <td>...</td>\n      <td>...</td>\n      <td>...</td>\n      <td>...</td>\n    </tr>\n    <tr>\n      <th>22575</th>\n      <td>False</td>\n      <td>False</td>\n      <td>False</td>\n      <td>False</td>\n      <td>False</td>\n      <td>False</td>\n      <td>False</td>\n      <td>False</td>\n      <td>False</td>\n    </tr>\n    <tr>\n      <th>22576</th>\n      <td>False</td>\n      <td>False</td>\n      <td>False</td>\n      <td>False</td>\n      <td>False</td>\n      <td>False</td>\n      <td>False</td>\n      <td>False</td>\n      <td>False</td>\n    </tr>\n    <tr>\n      <th>22577</th>\n      <td>False</td>\n      <td>False</td>\n      <td>False</td>\n      <td>False</td>\n      <td>False</td>\n      <td>False</td>\n      <td>False</td>\n      <td>False</td>\n      <td>False</td>\n    </tr>\n    <tr>\n      <th>22578</th>\n      <td>False</td>\n      <td>False</td>\n      <td>False</td>\n      <td>False</td>\n      <td>False</td>\n      <td>False</td>\n      <td>False</td>\n      <td>False</td>\n      <td>False</td>\n    </tr>\n    <tr>\n      <th>22579</th>\n      <td>False</td>\n      <td>False</td>\n      <td>False</td>\n      <td>False</td>\n      <td>False</td>\n      <td>False</td>\n      <td>False</td>\n      <td>False</td>\n      <td>True</td>\n    </tr>\n  </tbody>\n</table>\n<p>22580 rows × 9 columns</p>\n</div>"
     },
     "metadata": {},
     "execution_count": 9
    }
   ],
   "source": [
    "dados.isnull()"
   ]
  },
  {
   "cell_type": "code",
   "execution_count": 10,
   "metadata": {},
   "outputs": [
    {
     "output_type": "execute_result",
     "data": {
      "text/plain": [
       "       Tipo  Bairro  Quartos  Vagas  Suites  Area  Valor  Condominio   IPTU\n",
       "0      True    True     True   True    True  True   True        True   True\n",
       "1      True    True     True   True    True  True   True       False  False\n",
       "2      True    True     True   True    True  True   True        True   True\n",
       "3      True    True     True   True    True  True   True        True  False\n",
       "4      True    True     True   True    True  True   True       False  False\n",
       "...     ...     ...      ...    ...     ...   ...    ...         ...    ...\n",
       "22575  True    True     True   True    True  True   True        True   True\n",
       "22576  True    True     True   True    True  True   True        True   True\n",
       "22577  True    True     True   True    True  True   True        True   True\n",
       "22578  True    True     True   True    True  True   True        True   True\n",
       "22579  True    True     True   True    True  True   True        True  False\n",
       "\n",
       "[22580 rows x 9 columns]"
      ],
      "text/html": "<div>\n<style scoped>\n    .dataframe tbody tr th:only-of-type {\n        vertical-align: middle;\n    }\n\n    .dataframe tbody tr th {\n        vertical-align: top;\n    }\n\n    .dataframe thead th {\n        text-align: right;\n    }\n</style>\n<table border=\"1\" class=\"dataframe\">\n  <thead>\n    <tr style=\"text-align: right;\">\n      <th></th>\n      <th>Tipo</th>\n      <th>Bairro</th>\n      <th>Quartos</th>\n      <th>Vagas</th>\n      <th>Suites</th>\n      <th>Area</th>\n      <th>Valor</th>\n      <th>Condominio</th>\n      <th>IPTU</th>\n    </tr>\n  </thead>\n  <tbody>\n    <tr>\n      <th>0</th>\n      <td>True</td>\n      <td>True</td>\n      <td>True</td>\n      <td>True</td>\n      <td>True</td>\n      <td>True</td>\n      <td>True</td>\n      <td>True</td>\n      <td>True</td>\n    </tr>\n    <tr>\n      <th>1</th>\n      <td>True</td>\n      <td>True</td>\n      <td>True</td>\n      <td>True</td>\n      <td>True</td>\n      <td>True</td>\n      <td>True</td>\n      <td>False</td>\n      <td>False</td>\n    </tr>\n    <tr>\n      <th>2</th>\n      <td>True</td>\n      <td>True</td>\n      <td>True</td>\n      <td>True</td>\n      <td>True</td>\n      <td>True</td>\n      <td>True</td>\n      <td>True</td>\n      <td>True</td>\n    </tr>\n    <tr>\n      <th>3</th>\n      <td>True</td>\n      <td>True</td>\n      <td>True</td>\n      <td>True</td>\n      <td>True</td>\n      <td>True</td>\n      <td>True</td>\n      <td>True</td>\n      <td>False</td>\n    </tr>\n    <tr>\n      <th>4</th>\n      <td>True</td>\n      <td>True</td>\n      <td>True</td>\n      <td>True</td>\n      <td>True</td>\n      <td>True</td>\n      <td>True</td>\n      <td>False</td>\n      <td>False</td>\n    </tr>\n    <tr>\n      <th>...</th>\n      <td>...</td>\n      <td>...</td>\n      <td>...</td>\n      <td>...</td>\n      <td>...</td>\n      <td>...</td>\n      <td>...</td>\n      <td>...</td>\n      <td>...</td>\n    </tr>\n    <tr>\n      <th>22575</th>\n      <td>True</td>\n      <td>True</td>\n      <td>True</td>\n      <td>True</td>\n      <td>True</td>\n      <td>True</td>\n      <td>True</td>\n      <td>True</td>\n      <td>True</td>\n    </tr>\n    <tr>\n      <th>22576</th>\n      <td>True</td>\n      <td>True</td>\n      <td>True</td>\n      <td>True</td>\n      <td>True</td>\n      <td>True</td>\n      <td>True</td>\n      <td>True</td>\n      <td>True</td>\n    </tr>\n    <tr>\n      <th>22577</th>\n      <td>True</td>\n      <td>True</td>\n      <td>True</td>\n      <td>True</td>\n      <td>True</td>\n      <td>True</td>\n      <td>True</td>\n      <td>True</td>\n      <td>True</td>\n    </tr>\n    <tr>\n      <th>22578</th>\n      <td>True</td>\n      <td>True</td>\n      <td>True</td>\n      <td>True</td>\n      <td>True</td>\n      <td>True</td>\n      <td>True</td>\n      <td>True</td>\n      <td>True</td>\n    </tr>\n    <tr>\n      <th>22579</th>\n      <td>True</td>\n      <td>True</td>\n      <td>True</td>\n      <td>True</td>\n      <td>True</td>\n      <td>True</td>\n      <td>True</td>\n      <td>True</td>\n      <td>False</td>\n    </tr>\n  </tbody>\n</table>\n<p>22580 rows × 9 columns</p>\n</div>"
     },
     "metadata": {},
     "execution_count": 10
    }
   ],
   "source": [
    "dados.notnull()"
   ]
  },
  {
   "cell_type": "code",
   "execution_count": 11,
   "metadata": {},
   "outputs": [
    {
     "output_type": "stream",
     "name": "stdout",
     "text": [
      "<class 'pandas.core.frame.DataFrame'>\nRangeIndex: 22580 entries, 0 to 22579\nData columns (total 9 columns):\n #   Column      Non-Null Count  Dtype  \n---  ------      --------------  -----  \n 0   Tipo        22580 non-null  object \n 1   Bairro      22580 non-null  object \n 2   Quartos     22580 non-null  int64  \n 3   Vagas       22580 non-null  int64  \n 4   Suites      22580 non-null  int64  \n 5   Area        22580 non-null  int64  \n 6   Valor       22571 non-null  float64\n 7   Condominio  20765 non-null  float64\n 8   IPTU        15795 non-null  float64\ndtypes: float64(3), int64(4), object(2)\nmemory usage: 1.6+ MB\n"
     ]
    }
   ],
   "source": [
    "dados.info()"
   ]
  },
  {
   "cell_type": "code",
   "execution_count": 25,
   "metadata": {},
   "outputs": [
    {
     "output_type": "execute_result",
     "data": {
      "text/plain": [
       "             Tipo           Bairro  Quartos  Vagas  Suites  Area  Valor  \\\n",
       "58    Apartamento  Barra da Tijuca        2      1       1    70    NaN   \n",
       "1492  Apartamento             Leme        2      0       0    75    NaN   \n",
       "1683         Casa     Campo Grande        3      4       3   363    NaN   \n",
       "2012  Apartamento         Botafogo        2      0       0    95    NaN   \n",
       "2034  Apartamento       Copacabana        2      0       0    72    NaN   \n",
       "4941         Casa     Campo Grande        3      2       1   100    NaN   \n",
       "8568  Apartamento             Leme        2      0       1    75    NaN   \n",
       "8947  Apartamento           Glória        3      0       1   135    NaN   \n",
       "9149  Apartamento            Gávea        3      1       1   105    NaN   \n",
       "\n",
       "      Condominio   IPTU  \n",
       "58         970.0   68.0  \n",
       "1492       878.0    NaN  \n",
       "1683         NaN    NaN  \n",
       "2012      1010.0  170.0  \n",
       "2034       850.0    NaN  \n",
       "4941         NaN    NaN  \n",
       "8568       878.0    NaN  \n",
       "8947       910.0  228.0  \n",
       "9149       880.0  221.0  "
      ],
      "text/html": "<div>\n<style scoped>\n    .dataframe tbody tr th:only-of-type {\n        vertical-align: middle;\n    }\n\n    .dataframe tbody tr th {\n        vertical-align: top;\n    }\n\n    .dataframe thead th {\n        text-align: right;\n    }\n</style>\n<table border=\"1\" class=\"dataframe\">\n  <thead>\n    <tr style=\"text-align: right;\">\n      <th></th>\n      <th>Tipo</th>\n      <th>Bairro</th>\n      <th>Quartos</th>\n      <th>Vagas</th>\n      <th>Suites</th>\n      <th>Area</th>\n      <th>Valor</th>\n      <th>Condominio</th>\n      <th>IPTU</th>\n    </tr>\n  </thead>\n  <tbody>\n    <tr>\n      <th>58</th>\n      <td>Apartamento</td>\n      <td>Barra da Tijuca</td>\n      <td>2</td>\n      <td>1</td>\n      <td>1</td>\n      <td>70</td>\n      <td>NaN</td>\n      <td>970.0</td>\n      <td>68.0</td>\n    </tr>\n    <tr>\n      <th>1492</th>\n      <td>Apartamento</td>\n      <td>Leme</td>\n      <td>2</td>\n      <td>0</td>\n      <td>0</td>\n      <td>75</td>\n      <td>NaN</td>\n      <td>878.0</td>\n      <td>NaN</td>\n    </tr>\n    <tr>\n      <th>1683</th>\n      <td>Casa</td>\n      <td>Campo Grande</td>\n      <td>3</td>\n      <td>4</td>\n      <td>3</td>\n      <td>363</td>\n      <td>NaN</td>\n      <td>NaN</td>\n      <td>NaN</td>\n    </tr>\n    <tr>\n      <th>2012</th>\n      <td>Apartamento</td>\n      <td>Botafogo</td>\n      <td>2</td>\n      <td>0</td>\n      <td>0</td>\n      <td>95</td>\n      <td>NaN</td>\n      <td>1010.0</td>\n      <td>170.0</td>\n    </tr>\n    <tr>\n      <th>2034</th>\n      <td>Apartamento</td>\n      <td>Copacabana</td>\n      <td>2</td>\n      <td>0</td>\n      <td>0</td>\n      <td>72</td>\n      <td>NaN</td>\n      <td>850.0</td>\n      <td>NaN</td>\n    </tr>\n    <tr>\n      <th>4941</th>\n      <td>Casa</td>\n      <td>Campo Grande</td>\n      <td>3</td>\n      <td>2</td>\n      <td>1</td>\n      <td>100</td>\n      <td>NaN</td>\n      <td>NaN</td>\n      <td>NaN</td>\n    </tr>\n    <tr>\n      <th>8568</th>\n      <td>Apartamento</td>\n      <td>Leme</td>\n      <td>2</td>\n      <td>0</td>\n      <td>1</td>\n      <td>75</td>\n      <td>NaN</td>\n      <td>878.0</td>\n      <td>NaN</td>\n    </tr>\n    <tr>\n      <th>8947</th>\n      <td>Apartamento</td>\n      <td>Glória</td>\n      <td>3</td>\n      <td>0</td>\n      <td>1</td>\n      <td>135</td>\n      <td>NaN</td>\n      <td>910.0</td>\n      <td>228.0</td>\n    </tr>\n    <tr>\n      <th>9149</th>\n      <td>Apartamento</td>\n      <td>Gávea</td>\n      <td>3</td>\n      <td>1</td>\n      <td>1</td>\n      <td>105</td>\n      <td>NaN</td>\n      <td>880.0</td>\n      <td>221.0</td>\n    </tr>\n  </tbody>\n</table>\n</div>"
     },
     "metadata": {},
     "execution_count": 25
    }
   ],
   "source": [
    "dados[dados['Valor'].isnull()]"
   ]
  },
  {
   "cell_type": "code",
   "execution_count": 26,
   "metadata": {},
   "outputs": [
    {
     "output_type": "execute_result",
     "data": {
      "text/plain": [
       "9"
      ]
     },
     "metadata": {},
     "execution_count": 26
    }
   ],
   "source": [
    "A = dados.shape[0]\n",
    "dados.dropna(subset= ['Valor'], inplace=True)\n",
    "B = dados.shape[0]\n",
    "A - B"
   ]
  },
  {
   "cell_type": "code",
   "execution_count": 27,
   "metadata": {},
   "outputs": [
    {
     "output_type": "execute_result",
     "data": {
      "text/plain": [
       "1813"
      ]
     },
     "metadata": {},
     "execution_count": 27
    }
   ],
   "source": [
    "dados[dados['Condominio'].isnull()].shape[0]"
   ]
  },
  {
   "cell_type": "code",
   "execution_count": 28,
   "metadata": {},
   "outputs": [],
   "source": [
    "selecao = (dados['Tipo'] == 'Apartamento') & (dados['Condominio'].isnull())"
   ]
  },
  {
   "cell_type": "code",
   "execution_count": 30,
   "metadata": {},
   "outputs": [
    {
     "output_type": "execute_result",
     "data": {
      "text/plain": [
       "745"
      ]
     },
     "metadata": {},
     "execution_count": 30
    }
   ],
   "source": [
    "A = dados.shape[0]\n",
    "dados = dados[~selecao]  ## (~) O Til inverte a seleção\n",
    "B =  dados.shape[0]\n",
    "A - B"
   ]
  },
  {
   "cell_type": "code",
   "execution_count": 32,
   "metadata": {},
   "outputs": [
    {
     "output_type": "execute_result",
     "data": {
      "text/plain": [
       "1068"
      ]
     },
     "metadata": {},
     "execution_count": 32
    }
   ],
   "source": [
    "dados[dados['Condominio'].isnull()].shape[0]"
   ]
  },
  {
   "cell_type": "code",
   "execution_count": 35,
   "metadata": {},
   "outputs": [],
   "source": [
    "dados = dados.fillna({'Condominio': 0, 'IPTU': 0}) \n",
    "##fillna utilizado para substituir os valores nulos"
   ]
  },
  {
   "cell_type": "code",
   "execution_count": 36,
   "metadata": {},
   "outputs": [
    {
     "output_type": "execute_result",
     "data": {
      "text/plain": [
       "0"
      ]
     },
     "metadata": {},
     "execution_count": 36
    }
   ],
   "source": [
    "dados[dados['IPTU'].isnull()].shape[0]"
   ]
  },
  {
   "cell_type": "code",
   "execution_count": 37,
   "metadata": {},
   "outputs": [
    {
     "output_type": "execute_result",
     "data": {
      "text/plain": [
       "0"
      ]
     },
     "metadata": {},
     "execution_count": 37
    }
   ],
   "source": [
    "dados[dados['Condominio'].isnull()].shape[0]"
   ]
  },
  {
   "cell_type": "code",
   "execution_count": 38,
   "metadata": {},
   "outputs": [
    {
     "output_type": "stream",
     "name": "stdout",
     "text": [
      "<class 'pandas.core.frame.DataFrame'>\nInt64Index: 21826 entries, 0 to 22579\nData columns (total 9 columns):\n #   Column      Non-Null Count  Dtype  \n---  ------      --------------  -----  \n 0   Tipo        21826 non-null  object \n 1   Bairro      21826 non-null  object \n 2   Quartos     21826 non-null  int64  \n 3   Vagas       21826 non-null  int64  \n 4   Suites      21826 non-null  int64  \n 5   Area        21826 non-null  int64  \n 6   Valor       21826 non-null  float64\n 7   Condominio  21826 non-null  float64\n 8   IPTU        21826 non-null  float64\ndtypes: float64(3), int64(4), object(2)\nmemory usage: 2.2+ MB\n"
     ]
    }
   ],
   "source": [
    "dados.info()"
   ]
  },
  {
   "cell_type": "code",
   "execution_count": 39,
   "metadata": {},
   "outputs": [],
   "source": [
    "dados.to_csv('./data/aluguel_residencial.csv', sep=';', index=False)"
   ]
  },
  {
   "source": [
    "### Exercício"
   ],
   "cell_type": "markdown",
   "metadata": {}
  },
  {
   "cell_type": "code",
   "execution_count": 47,
   "metadata": {},
   "outputs": [],
   "source": [
    "imoveis = pd.DataFrame([['Apartamento', None, 970, 68], \n",
    "                        ['Apartamento', 2000, 878, 112], \n",
    "                        ['Casa', 5000, None, 500], \n",
    "                        ['Apartamento', None, 1010, 170], \n",
    "                        ['Apartamento', 1500, 850, None], \n",
    "                        ['Casa', None, None, None], \n",
    "                        ['Apartamento', 2000, 878, None], \n",
    "                        ['Apartamento', 1550, None, 228], \n",
    "                        ['Apartamento', 2500, 880, 195]], \n",
    "                        columns = ['Tipo', 'Valor', 'Condominio', 'IPTU'])"
   ]
  },
  {
   "cell_type": "code",
   "execution_count": 48,
   "metadata": {},
   "outputs": [
    {
     "output_type": "execute_result",
     "data": {
      "text/plain": [
       "          Tipo   Valor  Condominio   IPTU\n",
       "0  Apartamento     NaN       970.0   68.0\n",
       "1  Apartamento  2000.0       878.0  112.0\n",
       "2         Casa  5000.0         NaN  500.0\n",
       "3  Apartamento     NaN      1010.0  170.0\n",
       "4  Apartamento  1500.0       850.0    NaN\n",
       "5         Casa     NaN         NaN    NaN\n",
       "6  Apartamento  2000.0       878.0    NaN\n",
       "7  Apartamento  1550.0         NaN  228.0\n",
       "8  Apartamento  2500.0       880.0  195.0"
      ],
      "text/html": "<div>\n<style scoped>\n    .dataframe tbody tr th:only-of-type {\n        vertical-align: middle;\n    }\n\n    .dataframe tbody tr th {\n        vertical-align: top;\n    }\n\n    .dataframe thead th {\n        text-align: right;\n    }\n</style>\n<table border=\"1\" class=\"dataframe\">\n  <thead>\n    <tr style=\"text-align: right;\">\n      <th></th>\n      <th>Tipo</th>\n      <th>Valor</th>\n      <th>Condominio</th>\n      <th>IPTU</th>\n    </tr>\n  </thead>\n  <tbody>\n    <tr>\n      <th>0</th>\n      <td>Apartamento</td>\n      <td>NaN</td>\n      <td>970.0</td>\n      <td>68.0</td>\n    </tr>\n    <tr>\n      <th>1</th>\n      <td>Apartamento</td>\n      <td>2000.0</td>\n      <td>878.0</td>\n      <td>112.0</td>\n    </tr>\n    <tr>\n      <th>2</th>\n      <td>Casa</td>\n      <td>5000.0</td>\n      <td>NaN</td>\n      <td>500.0</td>\n    </tr>\n    <tr>\n      <th>3</th>\n      <td>Apartamento</td>\n      <td>NaN</td>\n      <td>1010.0</td>\n      <td>170.0</td>\n    </tr>\n    <tr>\n      <th>4</th>\n      <td>Apartamento</td>\n      <td>1500.0</td>\n      <td>850.0</td>\n      <td>NaN</td>\n    </tr>\n    <tr>\n      <th>5</th>\n      <td>Casa</td>\n      <td>NaN</td>\n      <td>NaN</td>\n      <td>NaN</td>\n    </tr>\n    <tr>\n      <th>6</th>\n      <td>Apartamento</td>\n      <td>2000.0</td>\n      <td>878.0</td>\n      <td>NaN</td>\n    </tr>\n    <tr>\n      <th>7</th>\n      <td>Apartamento</td>\n      <td>1550.0</td>\n      <td>NaN</td>\n      <td>228.0</td>\n    </tr>\n    <tr>\n      <th>8</th>\n      <td>Apartamento</td>\n      <td>2500.0</td>\n      <td>880.0</td>\n      <td>195.0</td>\n    </tr>\n  </tbody>\n</table>\n</div>"
     },
     "metadata": {},
     "execution_count": 48
    }
   ],
   "source": [
    "imoveis"
   ]
  },
  {
   "source": [
    "### Elimina os registros que não apresentam a variável Valor:"
   ],
   "cell_type": "markdown",
   "metadata": {}
  },
  {
   "cell_type": "code",
   "execution_count": 49,
   "metadata": {},
   "outputs": [],
   "source": [
    "imoveis.dropna(subset= ['Valor'], inplace=True)"
   ]
  },
  {
   "cell_type": "code",
   "execution_count": 50,
   "metadata": {},
   "outputs": [
    {
     "output_type": "execute_result",
     "data": {
      "text/plain": [
       "          Tipo   Valor  Condominio   IPTU\n",
       "1  Apartamento  2000.0       878.0  112.0\n",
       "2         Casa  5000.0         NaN  500.0\n",
       "4  Apartamento  1500.0       850.0    NaN\n",
       "6  Apartamento  2000.0       878.0    NaN\n",
       "7  Apartamento  1550.0         NaN  228.0\n",
       "8  Apartamento  2500.0       880.0  195.0"
      ],
      "text/html": "<div>\n<style scoped>\n    .dataframe tbody tr th:only-of-type {\n        vertical-align: middle;\n    }\n\n    .dataframe tbody tr th {\n        vertical-align: top;\n    }\n\n    .dataframe thead th {\n        text-align: right;\n    }\n</style>\n<table border=\"1\" class=\"dataframe\">\n  <thead>\n    <tr style=\"text-align: right;\">\n      <th></th>\n      <th>Tipo</th>\n      <th>Valor</th>\n      <th>Condominio</th>\n      <th>IPTU</th>\n    </tr>\n  </thead>\n  <tbody>\n    <tr>\n      <th>1</th>\n      <td>Apartamento</td>\n      <td>2000.0</td>\n      <td>878.0</td>\n      <td>112.0</td>\n    </tr>\n    <tr>\n      <th>2</th>\n      <td>Casa</td>\n      <td>5000.0</td>\n      <td>NaN</td>\n      <td>500.0</td>\n    </tr>\n    <tr>\n      <th>4</th>\n      <td>Apartamento</td>\n      <td>1500.0</td>\n      <td>850.0</td>\n      <td>NaN</td>\n    </tr>\n    <tr>\n      <th>6</th>\n      <td>Apartamento</td>\n      <td>2000.0</td>\n      <td>878.0</td>\n      <td>NaN</td>\n    </tr>\n    <tr>\n      <th>7</th>\n      <td>Apartamento</td>\n      <td>1550.0</td>\n      <td>NaN</td>\n      <td>228.0</td>\n    </tr>\n    <tr>\n      <th>8</th>\n      <td>Apartamento</td>\n      <td>2500.0</td>\n      <td>880.0</td>\n      <td>195.0</td>\n    </tr>\n  </tbody>\n</table>\n</div>"
     },
     "metadata": {},
     "execution_count": 50
    }
   ],
   "source": [
    "imoveis"
   ]
  },
  {
   "source": [
    "### Elimina os imóveis do tipo Apartamento que não apresentam valor Condominio:"
   ],
   "cell_type": "markdown",
   "metadata": {}
  },
  {
   "cell_type": "code",
   "execution_count": 51,
   "metadata": {},
   "outputs": [
    {
     "output_type": "execute_result",
     "data": {
      "text/plain": [
       "          Tipo   Valor  Condominio   IPTU\n",
       "1  Apartamento  2000.0       878.0  112.0\n",
       "2         Casa  5000.0         NaN  500.0\n",
       "4  Apartamento  1500.0       850.0    NaN\n",
       "6  Apartamento  2000.0       878.0    NaN\n",
       "8  Apartamento  2500.0       880.0  195.0"
      ],
      "text/html": "<div>\n<style scoped>\n    .dataframe tbody tr th:only-of-type {\n        vertical-align: middle;\n    }\n\n    .dataframe tbody tr th {\n        vertical-align: top;\n    }\n\n    .dataframe thead th {\n        text-align: right;\n    }\n</style>\n<table border=\"1\" class=\"dataframe\">\n  <thead>\n    <tr style=\"text-align: right;\">\n      <th></th>\n      <th>Tipo</th>\n      <th>Valor</th>\n      <th>Condominio</th>\n      <th>IPTU</th>\n    </tr>\n  </thead>\n  <tbody>\n    <tr>\n      <th>1</th>\n      <td>Apartamento</td>\n      <td>2000.0</td>\n      <td>878.0</td>\n      <td>112.0</td>\n    </tr>\n    <tr>\n      <th>2</th>\n      <td>Casa</td>\n      <td>5000.0</td>\n      <td>NaN</td>\n      <td>500.0</td>\n    </tr>\n    <tr>\n      <th>4</th>\n      <td>Apartamento</td>\n      <td>1500.0</td>\n      <td>850.0</td>\n      <td>NaN</td>\n    </tr>\n    <tr>\n      <th>6</th>\n      <td>Apartamento</td>\n      <td>2000.0</td>\n      <td>878.0</td>\n      <td>NaN</td>\n    </tr>\n    <tr>\n      <th>8</th>\n      <td>Apartamento</td>\n      <td>2500.0</td>\n      <td>880.0</td>\n      <td>195.0</td>\n    </tr>\n  </tbody>\n</table>\n</div>"
     },
     "metadata": {},
     "execution_count": 51
    }
   ],
   "source": [
    "selecao = (imoveis['Tipo'] == 'Apartamento') & (imoveis['Condominio'].isnull())\n",
    "imoveis = imoveis[~selecao]\n",
    "imoveis"
   ]
  },
  {
   "source": [
    "### Substitui os valores faltantes que restam nas variáveis Condominio e IPTU por zero:"
   ],
   "cell_type": "markdown",
   "metadata": {}
  },
  {
   "cell_type": "code",
   "execution_count": 52,
   "metadata": {},
   "outputs": [
    {
     "output_type": "execute_result",
     "data": {
      "text/plain": [
       "          Tipo   Valor  Condominio   IPTU\n",
       "1  Apartamento  2000.0       878.0  112.0\n",
       "2         Casa  5000.0         0.0  500.0\n",
       "4  Apartamento  1500.0       850.0    0.0\n",
       "6  Apartamento  2000.0       878.0    0.0\n",
       "8  Apartamento  2500.0       880.0  195.0"
      ],
      "text/html": "<div>\n<style scoped>\n    .dataframe tbody tr th:only-of-type {\n        vertical-align: middle;\n    }\n\n    .dataframe tbody tr th {\n        vertical-align: top;\n    }\n\n    .dataframe thead th {\n        text-align: right;\n    }\n</style>\n<table border=\"1\" class=\"dataframe\">\n  <thead>\n    <tr style=\"text-align: right;\">\n      <th></th>\n      <th>Tipo</th>\n      <th>Valor</th>\n      <th>Condominio</th>\n      <th>IPTU</th>\n    </tr>\n  </thead>\n  <tbody>\n    <tr>\n      <th>1</th>\n      <td>Apartamento</td>\n      <td>2000.0</td>\n      <td>878.0</td>\n      <td>112.0</td>\n    </tr>\n    <tr>\n      <th>2</th>\n      <td>Casa</td>\n      <td>5000.0</td>\n      <td>0.0</td>\n      <td>500.0</td>\n    </tr>\n    <tr>\n      <th>4</th>\n      <td>Apartamento</td>\n      <td>1500.0</td>\n      <td>850.0</td>\n      <td>0.0</td>\n    </tr>\n    <tr>\n      <th>6</th>\n      <td>Apartamento</td>\n      <td>2000.0</td>\n      <td>878.0</td>\n      <td>0.0</td>\n    </tr>\n    <tr>\n      <th>8</th>\n      <td>Apartamento</td>\n      <td>2500.0</td>\n      <td>880.0</td>\n      <td>195.0</td>\n    </tr>\n  </tbody>\n</table>\n</div>"
     },
     "metadata": {},
     "execution_count": 52
    }
   ],
   "source": [
    "imoveis = imoveis.fillna({'Condominio': 0, 'IPTU': 0})\n",
    "imoveis"
   ]
  },
  {
   "source": [
    "### Reconstrói o índice do DataFrame resultante:"
   ],
   "cell_type": "markdown",
   "metadata": {}
  },
  {
   "cell_type": "code",
   "execution_count": 53,
   "metadata": {},
   "outputs": [
    {
     "output_type": "execute_result",
     "data": {
      "text/plain": [
       "          Tipo   Valor  Condominio   IPTU\n",
       "0  Apartamento  2000.0       878.0  112.0\n",
       "1         Casa  5000.0         0.0  500.0\n",
       "2  Apartamento  1500.0       850.0    0.0\n",
       "3  Apartamento  2000.0       878.0    0.0\n",
       "4  Apartamento  2500.0       880.0  195.0"
      ],
      "text/html": "<div>\n<style scoped>\n    .dataframe tbody tr th:only-of-type {\n        vertical-align: middle;\n    }\n\n    .dataframe tbody tr th {\n        vertical-align: top;\n    }\n\n    .dataframe thead th {\n        text-align: right;\n    }\n</style>\n<table border=\"1\" class=\"dataframe\">\n  <thead>\n    <tr style=\"text-align: right;\">\n      <th></th>\n      <th>Tipo</th>\n      <th>Valor</th>\n      <th>Condominio</th>\n      <th>IPTU</th>\n    </tr>\n  </thead>\n  <tbody>\n    <tr>\n      <th>0</th>\n      <td>Apartamento</td>\n      <td>2000.0</td>\n      <td>878.0</td>\n      <td>112.0</td>\n    </tr>\n    <tr>\n      <th>1</th>\n      <td>Casa</td>\n      <td>5000.0</td>\n      <td>0.0</td>\n      <td>500.0</td>\n    </tr>\n    <tr>\n      <th>2</th>\n      <td>Apartamento</td>\n      <td>1500.0</td>\n      <td>850.0</td>\n      <td>0.0</td>\n    </tr>\n    <tr>\n      <th>3</th>\n      <td>Apartamento</td>\n      <td>2000.0</td>\n      <td>878.0</td>\n      <td>0.0</td>\n    </tr>\n    <tr>\n      <th>4</th>\n      <td>Apartamento</td>\n      <td>2500.0</td>\n      <td>880.0</td>\n      <td>195.0</td>\n    </tr>\n  </tbody>\n</table>\n</div>"
     },
     "metadata": {},
     "execution_count": 53
    }
   ],
   "source": [
    "imoveis.index = range(imoveis.shape[0])\n",
    "imoveis"
   ]
  },
  {
   "cell_type": "code",
   "execution_count": null,
   "metadata": {},
   "outputs": [],
   "source": []
  }
 ]
}